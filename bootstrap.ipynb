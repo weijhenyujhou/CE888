{
  "nbformat": 4,
  "nbformat_minor": 0,
  "metadata": {
    "kernelspec": {
      "display_name": "Python 3",
      "language": "python",
      "name": "python3"
    },
    "language_info": {
      "codemirror_mode": {
        "name": "ipython",
        "version": 2
      },
      "file_extension": ".py",
      "mimetype": "text/x-python",
      "name": "python",
      "nbconvert_exporter": "python",
      "pygments_lexer": "ipython2",
      "version": "2.7.6"
    },
    "pycharm": {
      "stem_cell": {
        "cell_type": "raw",
        "source": [],
        "metadata": {
          "collapsed": false
        }
      }
    },
    "colab": {
      "name": "Copy of bootstrap.ipynb",
      "provenance": [],
      "include_colab_link": true
    }
  },
  "cells": [
    {
      "cell_type": "markdown",
      "metadata": {
        "id": "view-in-github",
        "colab_type": "text"
      },
      "source": [
        "<a href=\"https://colab.research.google.com/github/weiyuchen1213/CE888/blob/master/bootstrap.ipynb\" target=\"_parent\"><img src=\"https://colab.research.google.com/assets/colab-badge.svg\" alt=\"Open In Colab\"/></a>"
      ]
    },
    {
      "cell_type": "markdown",
      "metadata": {
        "id": "nCi_99yMYIb1",
        "colab_type": "text"
      },
      "source": [
        "In this notebook you'll create your own bootstrap function following the bootstrap algorithm (check the lecture notes!)"
      ]
    },
    {
      "cell_type": "code",
      "metadata": {
        "pycharm": {
          "name": "#%%# Imports\n"
        },
        "id": "LY5zujI2YC37",
        "colab_type": "code",
        "colab": {}
      },
      "source": [
        "import matplotlib\n",
        "import pandas as pd\n",
        "import seaborn as sns\n",
        "import numpy as np"
      ],
      "execution_count": 0,
      "outputs": []
    },
    {
      "cell_type": "code",
      "metadata": {
        "id": "Eqkwj4SMY38t",
        "colab_type": "code",
        "colab": {}
      },
      "source": [
        "# Load the data\n",
        "df = pd.read_csv('https://raw.githubusercontent.com/albanda/CE888/master/lab2%20-%20bootstrap/customers.csv')\n",
        "data = df.values.T[1]"
      ],
      "execution_count": 0,
      "outputs": []
    },
    {
      "cell_type": "code",
      "metadata": {
        "id": "7ZGNTob71L8r",
        "colab_type": "code",
        "outputId": "fe5fb430-6568-4db4-f701-d622272b0648",
        "colab": {
          "base_uri": "https://localhost:8080/",
          "height": 34
        }
      },
      "source": [
        "print(data)"
      ],
      "execution_count": 0,
      "outputs": [
        {
          "output_type": "stream",
          "text": [
            "[ 2.  8. 20. 13.  5.  9. 10.  8. 22. 10.  2.  4.  7.  9.]\n"
          ],
          "name": "stdout"
        }
      ]
    },
    {
      "cell_type": "code",
      "metadata": {
        "pycharm": {
          "name": "#%%\n"
        },
        "id": "Gxvc_bScYC4H",
        "colab_type": "code",
        "colab": {}
      },
      "source": [
        "# Checking the notes from the lecture, create here your own bootstrap function:\n",
        "# 1. Create an array of samples of shape (n_iterations, sample_size)\n",
        "# 2. Calculate and save the mean of the array (this is \"data_mean\" that is returned by the function)\n",
        "# 3. In each iteration:\n",
        "# 3.1 Get the data corresponding to that iteration (new_samples[iteration, :])\n",
        "# 3.2 Calculate the mean of the iteration data and store it\n",
        "# (At this point you should have an array of n_iterations values)\n",
        "# 4. Calculate the lower and upper bounds for a 95% CI (hint: check the percentile function on Numpy)\n",
        "# 5. Return data_mean, and the lower and upper bounds of your interval\n",
        "def boostrap_mean(sample, sample_size, n_iterations):\n",
        "    bootstrap = np.random.choice(sample,(n_iterations,sample_size),replace = True)\n",
        "    list_mean = []\n",
        "    for i in range (len(bootstrap)):\n",
        "      new_samples = bootstrap[i,:]\n",
        "      sample_mean = np.mean(new_samples)\n",
        "      list_mean.append(sample_mean)\n",
        "    lower = np.percentile(list_mean, 2.5)\n",
        "    upper = np.percentile(list_mean, 97.5)\n",
        "    data_mean = np.mean(bootstrap)\t\n",
        "    return data_mean, lower, upper"
      ],
      "execution_count": 0,
      "outputs": []
    },
    {
      "cell_type": "code",
      "metadata": {
        "pycharm": {
          "name": "#%%\n"
        },
        "id": "AN7sEOcMYC4P",
        "colab_type": "code",
        "outputId": "208508bf-fdfa-4ef2-963f-b864a10ee2a7",
        "colab": {
          "base_uri": "https://localhost:8080/",
          "height": 386
        }
      },
      "source": [
        "# Call your bootstrap function and plot the results\n",
        "\n",
        "boots = []\n",
        "for i in range(100, 100000, 1000):\n",
        "    boot = boostrap_mean(data, data.shape[0], i)\n",
        "    boots.append([i, boot[0], \"mean\"])\n",
        "    boots.append([i, boot[1], \"lower\"])\n",
        "    boots.append([i, boot[2], \"upper\"])\n",
        "\n",
        "df_boot = pd.DataFrame(boots, columns=['Boostrap Iterations', 'Mean', \"Value\"])\n",
        "sns_plot = sns.lmplot(df_boot.columns[0], df_boot.columns[1], data=df_boot, fit_reg=False, hue=\"Value\")\n",
        "\n",
        "sns_plot.axes[0, 0].set_ylim(0,)\n",
        "sns_plot.axes[0, 0].set_xlim(0, 100000)\n",
        "\n",
        "#sns_plot.savefig(\"bootstrap_confidence.png\", bbox_inches='tight')\n",
        "#sns_plot.savefig(\"bootstrap_confidence.pdf\", bbox_inches='tight')\n",
        "\n"
      ],
      "execution_count": 0,
      "outputs": [
        {
          "output_type": "execute_result",
          "data": {
            "text/plain": [
              "(0, 100000)"
            ]
          },
          "metadata": {
            "tags": []
          },
          "execution_count": 48
        },
        {
          "output_type": "display_data",
          "data": {
            "image/png": "[encoded data removed]",
            "text/plain": [
              "<Figure size 425.125x360 with 1 Axes>"
            ]
          },
          "metadata": {
            "tags": []
          }
        }
      ]
    },
    {
      "cell_type": "markdown",
      "metadata": {
        "collapsed": false,
        "id": "MjtP4e2_YC4V",
        "colab_type": "text"
      },
      "source": [
        "\n",
        "Now, modify the bootstrap function so that you can pass your desired confidence interval as a parameter.\n",
        "\n"
      ]
    },
    {
      "cell_type": "code",
      "metadata": {
        "id": "3K9j0FuGYhHs",
        "colab_type": "code",
        "colab": {}
      },
      "source": [
        "def boostrap_mean_ci(sample, sample_size, iterations, ci):\n",
        "    bootstrap = np.random.choice(sample,(iterations,sample_size),replace = True)\n",
        "    list_mean = []\n",
        "    for i in range (len(bootstrap)):\n",
        "      new_samples = bootstrap[i,:]\n",
        "      sample_mean = np.mean(new_samples)\n",
        "      list_mean.append(sample_mean)\n",
        "    lower = np.percentile(list_mean, (100-ci)/2)\n",
        "    upper = np.percentile(list_mean, ci+((100-ci)/2))\n",
        "    data_mean = np.mean(bootstrap)\n",
        "    return data_mean, lower, upper\n",
        "\t"
      ],
      "execution_count": 0,
      "outputs": []
    },
    {
      "cell_type": "code",
      "metadata": {
        "id": "uDnjq08GYl-C",
        "colab_type": "code",
        "outputId": "7d3d52b1-3022-4225-aeae-6fc7e2ab7d75",
        "colab": {
          "base_uri": "https://localhost:8080/",
          "height": 366
        }
      },
      "source": [
        "\n",
        "boots = []\n",
        "for i in range(100, 100000, 1000):\n",
        "    boot = boostrap_mean_ci(data, data.shape[0], i, 80)\n",
        "    boots.append([i, boot[0], \"mean\"])\n",
        "    boots.append([i, boot[1], \"lower\"])\n",
        "    boots.append([i, boot[2], \"upper\"])\n",
        "\n",
        "df_boot = pd.DataFrame(boots, columns=['Boostrap Iterations', 'Mean', \"Value\"])\n",
        "sns_plot = sns.lmplot(df_boot.columns[0], df_boot.columns[1], data=df_boot, fit_reg=False, hue=\"Value\")\n",
        "\n",
        "sns_plot.axes[0, 0].set_ylim(0,)\n",
        "sns_plot.axes[0, 0].set_xlim(0, 100000)\n",
        "\n",
        "sns_plot.savefig(\"bootstrap_confidence_80.png\", bbox_inches='tight')\n",
        "sns_plot.savefig(\"bootstrap_confidence_80.pdf\", bbox_inches='tight')\n"
      ],
      "execution_count": 0,
      "outputs": [
        {
          "output_type": "display_data",
          "data": {
            "image/png": "[encoded data removed]",
            "text/plain": [
              "<Figure size 425.125x360 with 1 Axes>"
            ]
          },
          "metadata": {
            "tags": []
          }
        }
      ]
    },
    {
      "cell_type": "markdown",
      "metadata": {
        "id": "qjNgXW6wdd7r",
        "colab_type": "text"
      },
      "source": [
        "# Vehicles dataset\n",
        "\n",
        "Now let's work on a different dataset. Load the vehicles.csv file and check the Moodle page for instructions on how to proceed\n"
      ]
    },
    {
      "cell_type": "code",
      "metadata": {
        "pycharm": {
          "name": "#%%# Imports\n"
        },
        "colab_type": "code",
        "id": "O3ad_VBJ6e3F",
        "colab": {}
      },
      "source": [
        "import matplotlib\n",
        "import pandas as pd\n",
        "import seaborn as sns\n",
        "import numpy as np\n",
        "\n"
      ],
      "execution_count": 0,
      "outputs": []
    },
    {
      "cell_type": "code",
      "metadata": {
        "id": "avWv4ipFdpka",
        "colab_type": "code",
        "outputId": "94bae80a-ba1d-4c4d-d5b5-a1dc8b4cb792",
        "colab": {
          "base_uri": "https://localhost:8080/",
          "height": 634
        }
      },
      "source": [
        "# Load and visualise the vehicles dataset\n",
        "  df = pd.read_csv('https://raw.githubusercontent.com/albanda/CE888/master/lab2%20-%20bootstrap/vehicles.csv')\n",
        "  data = df.values.T[1]\n",
        "  datacol= df[df.columns[0]].values\n",
        "  sns.distplot(datacol,bins=20,kde=False,rug=True)\n",
        "  sns.lmplot(df.columns[0],df.columns[1],data=df,fit_reg=False)\n",
        "# Note: you can add more cells as needed to organise your code and your plots"
      ],
      "execution_count": 0,
      "outputs": [
        {
          "output_type": "execute_result",
          "data": {
            "text/plain": [
              "<seaborn.axisgrid.FacetGrid at 0x7f7ba30950f0>"
            ]
          },
          "metadata": {
            "tags": []
          },
          "execution_count": 13
        },
        {
          "output_type": "display_data",
          "data": {
            "image/png": "[encoded data removed]",
            "text/plain": [
              "<Figure size 432x288 with 1 Axes>"
            ]
          },
          "metadata": {
            "tags": []
          }
        },
        {
          "output_type": "display_data",
          "data": {
            "image/png": "[encoded data removed]",
            "text/plain": [
              "<Figure size 360x360 with 1 Axes>"
            ]
          },
          "metadata": {
            "tags": []
          }
        }
      ]
    },
    {
      "cell_type": "code",
      "metadata": {
        "id": "3z3q4EKkVXOh",
        "colab_type": "code",
        "outputId": "ac09dd31-5396-4821-d220-fcfb574b136a",
        "colab": {
          "base_uri": "https://localhost:8080/",
          "height": 68
        }
      },
      "source": [
        "  #treat the missing values\n",
        "  x = df[~np.isnan(df)]\n",
        "  mean = np.mean(x)\n",
        "  print(mean)"
      ],
      "execution_count": 0,
      "outputs": [
        {
          "output_type": "stream",
          "text": [
            "Current fleet    20.144578\n",
            "New Fleet        30.481013\n",
            "dtype: float64\n"
          ],
          "name": "stdout"
        }
      ]
    },
    {
      "cell_type": "code",
      "metadata": {
        "id": "BAKyj983dwSM",
        "colab_type": "code",
        "colab": {}
      },
      "source": [
        "# Compare the two fleets.\n",
        "# You can create a permutation test function to do this. Check the lecture notes!"
      ],
      "execution_count": 0,
      "outputs": []
    },
    {
      "cell_type": "code",
      "metadata": {
        "id": "XgW8VBaqW32T",
        "colab_type": "code",
        "outputId": "dbc2a5e4-6071-467c-de83-edc0238c029d",
        "colab": {
          "base_uri": "https://localhost:8080/",
          "height": 386
        }
      },
      "source": [
        "boots = []\n",
        "for i in range(100, 100000, 1000):\n",
        "    boot = boostrap_mean(datacol, datacol.shape[0], i)\n",
        "    boots.append([i, boot[0], \"mean\"])\n",
        "    boots.append([i, boot[1], \"lower\"])\n",
        "    boots.append([i, boot[2], \"upper\"])\n",
        "\n",
        "df_boot = pd.DataFrame(boots, columns=['Boostrap Iterations', 'Mean', \"Value\"])\n",
        "sns_plot = sns.lmplot(df_boot.columns[0], df_boot.columns[1], data=df_boot, fit_reg=False, hue=\"Value\")\n",
        "\n",
        "sns_plot.axes[0, 0].set_ylim(0,)\n",
        "sns_plot.axes[0, 0].set_xlim(0, 100000)\n",
        "\n",
        "#sns_plot.savefig(\"bootstrap_confidence.png\", bbox_inches='tight')\n",
        "#sns_plot.savefig(\"bootstrap_confidence.pdf\", bbox_inches='tight')"
      ],
      "execution_count": 0,
      "outputs": [
        {
          "output_type": "execute_result",
          "data": {
            "text/plain": [
              "(0, 100000)"
            ]
          },
          "metadata": {
            "tags": []
          },
          "execution_count": 15
        },
        {
          "output_type": "display_data",
          "data": {
            "image/png": "[encoded data removed]",
            "text/plain": [
              "<Figure size 425.125x360 with 1 Axes>"
            ]
          },
          "metadata": {
            "tags": []
          }
        }
      ]
    },
    {
      "cell_type": "code",
      "metadata": {
        "id": "zM2z6Q9DCFSU",
        "colab_type": "code",
        "outputId": "5494b741-b04e-42cc-b94b-0b60dba0671e",
        "colab": {
          "base_uri": "https://localhost:8080/",
          "height": 369
        }
      },
      "source": [
        "boots = []\n",
        "for i in range(100, 100000, 1000):\n",
        "    boot = boostrap_mean_ci(datacol, datacol.shape[0], i, 80)\n",
        "    boots.append([i, boot[0], \"mean\"])\n",
        "    boots.append([i, boot[1], \"lower\"])\n",
        "    boots.append([i, boot[2], \"upper\"])\n",
        "\n",
        "df_boot = pd.DataFrame(boots, columns=['Boostrap Iterations', 'Mean', \"Value\"])\n",
        "sns_plot = sns.lmplot(df_boot.columns[0], df_boot.columns[1], data=df_boot, fit_reg=False, hue=\"Value\")\n",
        "\n",
        "sns_plot.axes[0, 0].set_ylim(0,)\n",
        "sns_plot.axes[0, 0].set_xlim(0, 100000)\n",
        "\n",
        "sns_plot.savefig(\"bootstrap_confidence_80.png\", bbox_inches='tight')\n",
        "sns_plot.savefig(\"bootstrap_confidence_80.pdf\", bbox_inches='tight')\n"
      ],
      "execution_count": 0,
      "outputs": [
        {
          "output_type": "display_data",
          "data": {
            "image/png": "[encoded data removed]",
            "text/plain": [
              "<Figure size 425.125x360 with 1 Axes>"
            ]
          },
          "metadata": {
            "tags": []
          }
        }
      ]
    },
    {
      "cell_type": "code",
      "metadata": {
        "id": "BFLHirlBCfym",
        "colab_type": "code",
        "outputId": "6d03463a-8452-4ca6-d3a9-954e80ebba14",
        "colab": {
          "base_uri": "https://localhost:8080/",
          "height": 255
        }
      },
      "source": [
        "data2= datacol[np.logical_not(np.isnan(datacol))]\n",
        "boots1 = []\n",
        "boot1 = boostrap_mean_ci(data2, data2.shape[0], i, 80)\n",
        "boots1.append([i, boot1[0], \"mean\"])\n",
        "boots1.append([i, boot1[1], \"lower\"])\n",
        "boots1.append([i, boot1[2], \"upper\"])\n",
        "df_boot1 =pd.DataFrame(boots, columns=[\"Bootstarp Iteration\", \"Mean\", \"Value\"])\n",
        "print(df_boot1)"
      ],
      "execution_count": 0,
      "outputs": [
        {
          "output_type": "stream",
          "text": [
            "     Bootstarp Iteration       Mean  Value\n",
            "0                    100  20.148514   mean\n",
            "1                    100  19.567871  lower\n",
            "2                    100  20.511245  upper\n",
            "3                   1100  20.134863   mean\n",
            "4                   1100  19.598394  lower\n",
            "..                   ...        ...    ...\n",
            "295                98100  19.626506  lower\n",
            "296                98100  20.663052  upper\n",
            "297                99100  20.142377   mean\n",
            "298                99100  19.622490  lower\n",
            "299                99100  20.662651  upper\n",
            "\n",
            "[300 rows x 3 columns]\n"
          ],
          "name": "stdout"
        }
      ]
    },
    {
      "cell_type": "code",
      "metadata": {
        "id": "yaOHC-ObCkpZ",
        "colab_type": "code",
        "outputId": "fd8dcbcb-4441-4030-ff2e-5761564795e5",
        "colab": {
          "base_uri": "https://localhost:8080/",
          "height": 374
        }
      },
      "source": [
        "#permutation\n",
        "concat= np.concatenate((datacol,data2))\n",
        "print(concat)"
      ],
      "execution_count": 0,
      "outputs": [
        {
          "output_type": "stream",
          "text": [
            "[18 15 18 16 17 15 14 14 14 15 15 14 15 14 22 18 21 21 10 10 11  9 28 25\n",
            " 19 16 17 19 18 14 14 14 14 12 13 13 18 22 19 18 23 26 25 20 21 13 14 15\n",
            " 14 17 11 13 12 13 15 13 13 14 22 28 13 14 13 14 15 12 13 13 14 13 12 13\n",
            " 18 16 18 18 23 11 12 13 12 18 21 19 21 15 16 15 11 20 21 19 15 26 25 16\n",
            " 16 18 16 13 14 14 14 28 19 18 15 15 16 15 16 14 17 16 15 18 21 20 13 23\n",
            " 20 23 18 19 25 26 18 16 16 15 22 22 24 23 29 25 20 18 19 18 27 13 17 13\n",
            " 13 13 30 26 18 17 16 15 18 21 19 19 16 16 16 16 25 26 31 34 36 20 19 20\n",
            " 19 21 20 25 21 19 21 21 19 18 19 18 18 18 30 31 23 24 22 20 22 20 21 17\n",
            " 18 17 18 17 16 19 19 36 27 23 24 34 35 28 29 27 34 32 28 26 24 19 28 24\n",
            " 27 27 26 24 30 39 35 34 30 22 27 20 18 28 27 34 31 29 27 24 23 38 36 25\n",
            " 38 26 22 36 27 27 32 28 31 18 15 18 16 17 15 14 14 14 15 15 14 15 14 22\n",
            " 18 21 21 10 10 11  9 28 25 19 16 17 19 18 14 14 14 14 12 13 13 18 22 19\n",
            " 18 23 26 25 20 21 13 14 15 14 17 11 13 12 13 15 13 13 14 22 28 13 14 13\n",
            " 14 15 12 13 13 14 13 12 13 18 16 18 18 23 11 12 13 12 18 21 19 21 15 16\n",
            " 15 11 20 21 19 15 26 25 16 16 18 16 13 14 14 14 28 19 18 15 15 16 15 16\n",
            " 14 17 16 15 18 21 20 13 23 20 23 18 19 25 26 18 16 16 15 22 22 24 23 29\n",
            " 25 20 18 19 18 27 13 17 13 13 13 30 26 18 17 16 15 18 21 19 19 16 16 16\n",
            " 16 25 26 31 34 36 20 19 20 19 21 20 25 21 19 21 21 19 18 19 18 18 18 30\n",
            " 31 23 24 22 20 22 20 21 17 18 17 18 17 16 19 19 36 27 23 24 34 35 28 29\n",
            " 27 34 32 28 26 24 19 28 24 27 27 26 24 30 39 35 34 30 22 27 20 18 28 27\n",
            " 34 31 29 27 24 23 38 36 25 38 26 22 36 27 27 32 28 31]\n"
          ],
          "name": "stdout"
        }
      ]
    },
    {
      "cell_type": "code",
      "metadata": {
        "id": "tiXgW6PgCoRc",
        "colab_type": "code",
        "outputId": "87d25913-1525-4188-8436-6f5d04c1d880",
        "colab": {
          "base_uri": "https://localhost:8080/",
          "height": 374
        }
      },
      "source": [
        "perm= np.random.permutation(concat)\n",
        "print(perm)"
      ],
      "execution_count": 0,
      "outputs": [
        {
          "output_type": "stream",
          "text": [
            "[25 17 21 18 34 28 16 28 12 15 19 24 18 17 14 18 19 24 19 28 29 24 31 11\n",
            " 20 15 27 10 16 10 17 15 12 14 22 16 23 19 19 16 23 17 12 12 17 13 21 26\n",
            " 27 21 21 16 17 34 21 18 26 14 21 12 19 24 36 15 13 30 34 13 14 11 26 19\n",
            " 13 23 15 15 36 30 16 22 15 31 35 13 11 22 23 25 15 17 13 19 19 23 19 16\n",
            " 16 19 11 13 34 15 36 17 14 23 18 21 20 15 18 20 13 22 29 13 13 24 16 34\n",
            " 20 15 13 25 15 14 16 14  9 35 20 13 36 32 38 18 24 16 15 18 18 14 26 25\n",
            " 27 17 14 21 18 22 27 13 16 22 12 25 36 38 23 22 26 13 30 16 25 14 14 27\n",
            " 18 25 21 14 16 30 27 27 15 15 24 11 18 21 20 20 26 22 36 13 28 15 26 17\n",
            " 26 14 12 15 28 17 25 14 23 18 18 19 15 26 18 30 28 27 16 28 31 15 25 20\n",
            " 19 28 21 30 13 13 19 16 36 18 29 18 16 19 16 11 19 23 39 11 15 21 18 19\n",
            " 22 16 20 24 10 18 22 30 16 13 28 19 34 18 18 13 34 22 31 23 19 18 28 20\n",
            " 13 20 21 17 27 16 14 18 34 18 14 15 19 14 16 13 16 20 19 22 24 18 18 24\n",
            " 27 19 14 16 24 13 16 18 19 18 18 27 13 21 22 20 15 17 25 14 26 14 15 19\n",
            " 20 14 38 16 18 19 20 19 14 18 18 34 31 14 15 35 12 27 14 13 13 16 25 18\n",
            " 27 24 31 14 17 16 18 17 13 20 16 15 14 30 28  9 22 15 26 27 21 14 20 16\n",
            " 22 19 38 16 18 26 23 18 19 22 34 26 26 18 13 13 21 16 16 16 12 28 31 18\n",
            " 13 25 18 24 15 18 14 31 13 32 14 18 15 18 25 26 13 20 12 13 18 21 27 39\n",
            " 19 19 27 17 23 28 12 14 21 18 19 28 29 13 19 32 21 13 15 20 13 13 21 18\n",
            " 27 18 19 23 14 11 18 28 15 19 23 23 18 22 13 26 32 16 15 17 21 21 13 15\n",
            " 19 35 22 19 25 36 21 27 27 14 14 15 25 10 24 17 20 29 20 18 13 21 21 18\n",
            " 23 28 14 18 27 13 16 20 14 14 14 25 12 15 29 21 18 14]\n"
          ],
          "name": "stdout"
        }
      ]
    },
    {
      "cell_type": "code",
      "metadata": {
        "id": "sJ9ltuczCrDR",
        "colab_type": "code",
        "outputId": "0015878f-cf18-4140-a2b4-45f4c625da9e",
        "colab": {
          "base_uri": "https://localhost:8080/",
          "height": 306
        }
      },
      "source": [
        "p_old= perm[:249]\n",
        "print(p_old)\n",
        "print(len(p_old))\n",
        "p_new= perm[:79]\n",
        "print(p_new)\n",
        "print(len(p_new))"
      ],
      "execution_count": 0,
      "outputs": [
        {
          "output_type": "stream",
          "text": [
            "[25 17 21 18 34 28 16 28 12 15 19 24 18 17 14 18 19 24 19 28 29 24 31 11\n",
            " 20 15 27 10 16 10 17 15 12 14 22 16 23 19 19 16 23 17 12 12 17 13 21 26\n",
            " 27 21 21 16 17 34 21 18 26 14 21 12 19 24 36 15 13 30 34 13 14 11 26 19\n",
            " 13 23 15 15 36 30 16 22 15 31 35 13 11 22 23 25 15 17 13 19 19 23 19 16\n",
            " 16 19 11 13 34 15 36 17 14 23 18 21 20 15 18 20 13 22 29 13 13 24 16 34\n",
            " 20 15 13 25 15 14 16 14  9 35 20 13 36 32 38 18 24 16 15 18 18 14 26 25\n",
            " 27 17 14 21 18 22 27 13 16 22 12 25 36 38 23 22 26 13 30 16 25 14 14 27\n",
            " 18 25 21 14 16 30 27 27 15 15 24 11 18 21 20 20 26 22 36 13 28 15 26 17\n",
            " 26 14 12 15 28 17 25 14 23 18 18 19 15 26 18 30 28 27 16 28 31 15 25 20\n",
            " 19 28 21 30 13 13 19 16 36 18 29 18 16 19 16 11 19 23 39 11 15 21 18 19\n",
            " 22 16 20 24 10 18 22 30 16]\n",
            "249\n",
            "[25 17 21 18 34 28 16 28 12 15 19 24 18 17 14 18 19 24 19 28 29 24 31 11\n",
            " 20 15 27 10 16 10 17 15 12 14 22 16 23 19 19 16 23 17 12 12 17 13 21 26\n",
            " 27 21 21 16 17 34 21 18 26 14 21 12 19 24 36 15 13 30 34 13 14 11 26 19\n",
            " 13 23 15 15 36 30 16]\n",
            "79\n"
          ],
          "name": "stdout"
        }
      ]
    },
    {
      "cell_type": "code",
      "metadata": {
        "id": "A3hOffT1Ct_M",
        "colab_type": "code",
        "outputId": "960e11e4-e6f1-4570-dd12-859ce979c51f",
        "colab": {
          "base_uri": "https://localhost:8080/",
          "height": 51
        }
      },
      "source": [
        "p_old_mean= np.mean(p_old)\n",
        "print(p_old_mean)\n",
        "p_new_mean= np.mean(p_new)\n",
        "print(p_new_mean)"
      ],
      "execution_count": 0,
      "outputs": [
        {
          "output_type": "stream",
          "text": [
            "20.353413654618475\n",
            "19.88607594936709\n"
          ],
          "name": "stdout"
        }
      ]
    }
  ]
}