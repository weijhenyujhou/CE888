{
  "nbformat": 4,
  "nbformat_minor": 0,
  "metadata": {
    "colab": {
      "name": "Lab1_test.ipynb",
      "provenance": [],
      "collapsed_sections": [],
      "authorship_tag": "ABX9TyNwe4f4Yufln35pOPzU/2Si",
      "include_colab_link": true
    },
    "kernelspec": {
      "name": "python3",
      "display_name": "Python 3"
    }
  },
  "cells": [
    {
      "cell_type": "markdown",
      "metadata": {
        "id": "view-in-github",
        "colab_type": "text"
      },
      "source": [
        "<a href=\"https://colab.research.google.com/github/weiyuchen1213/CE888/blob/master/Lab1_test.ipynb\" target=\"_parent\"><img src=\"https://colab.research.google.com/assets/colab-badge.svg\" alt=\"Open In Colab\"/></a>"
      ]
    },
    {
      "cell_type": "markdown",
      "metadata": {
        "id": "J3cCSbNeQCV7",
        "colab_type": "text"
      },
      "source": [
        "##1. Create a (4 x 2) integer array and print it's attributes"
      ]
    },
    {
      "cell_type": "code",
      "metadata": {
        "id": "-6hsjuLnz-dJ",
        "colab_type": "code",
        "outputId": "345418fb-d0b2-43b4-dca5-8ddbc7265508",
        "colab": {
          "base_uri": "https://localhost:8080/",
          "height": 85
        }
      },
      "source": [
        "a = np.array([[1,2],[3,4],[5,6],[7,8]])\n",
        "print(a)"
      ],
      "execution_count": 6,
      "outputs": [
        {
          "output_type": "stream",
          "text": [
            "[[1 2]\n",
            " [3 4]\n",
            " [5 6]\n",
            " [7 8]]\n"
          ],
          "name": "stdout"
        }
      ]
    },
    {
      "cell_type": "markdown",
      "metadata": {
        "id": "r14SIkkqQxoZ",
        "colab_type": "text"
      },
      "source": [
        "##2. Create an array of dimension (1,10) and sort it in ascending and descending order"
      ]
    },
    {
      "cell_type": "code",
      "metadata": {
        "id": "2w9Uj7YH5RG-",
        "colab_type": "code",
        "colab": {
          "base_uri": "https://localhost:8080/",
          "height": 51
        },
        "outputId": "41c1f24f-372b-4b35-c66c-9c7dd2c3250d"
      },
      "source": [
        "a = np.array([1,23,45,67,8,66,79,81,95,33])\n",
        "sorted_arry =np.sort(a)\n",
        "reverse_arry = sorted_arry[::-1]\n",
        "print(sorted_arry)\n",
        "print(reverse_arry)\n"
      ],
      "execution_count": 21,
      "outputs": [
        {
          "output_type": "stream",
          "text": [
            "[ 1  8 23 33 45 66 67 79 81 95]\n",
            "[95 81 79 67 66 45 33 23  8  1]\n"
          ],
          "name": "stdout"
        }
      ]
    },
    {
      "cell_type": "markdown",
      "metadata": {
        "id": "PCAjHaSPBqF-",
        "colab_type": "text"
      },
      "source": [
        "##3. Convert an 1D array [1 2 3 4 5 6 7 8 9] to 2D array [[1 2 3], [4 5 6], [7 8 9]]"
      ]
    },
    {
      "cell_type": "code",
      "metadata": {
        "id": "3SEYgV3u_n34",
        "colab_type": "code",
        "colab": {
          "base_uri": "https://localhost:8080/",
          "height": 102
        },
        "outputId": "f5f394d8-c52b-41df-888f-b7ab6e76c851"
      },
      "source": [
        "a = np.array([1,23,45,67,8,66,79,81,95,33])\n",
        "b = np.reshape(a ,(-1,2))\n",
        "print(b)"
      ],
      "execution_count": 22,
      "outputs": [
        {
          "output_type": "stream",
          "text": [
            "[[ 1 23]\n",
            " [45 67]\n",
            " [ 8 66]\n",
            " [79 81]\n",
            " [95 33]]\n"
          ],
          "name": "stdout"
        }
      ]
    },
    {
      "cell_type": "markdown",
      "metadata": {
        "id": "Jeuvwkl5Bgfm",
        "colab_type": "text"
      },
      "source": [
        "##4. Stack two arrays of any size horizontally and vertically\n"
      ]
    },
    {
      "cell_type": "code",
      "metadata": {
        "id": "rlP8Z4dFAD6T",
        "colab_type": "code",
        "colab": {
          "base_uri": "https://localhost:8080/",
          "height": 102
        },
        "outputId": "08bd223a-7e46-4e67-91f4-ec45142f0dd4"
      },
      "source": [
        "a = np.array([[12, 33], [2, 3],[45,87]])\n",
        "b = np.array([[5, 6],[11,99]])\n",
        "np.concatenate((a, b), axis=0)"
      ],
      "execution_count": 24,
      "outputs": [
        {
          "output_type": "execute_result",
          "data": {
            "text/plain": [
              "array([[12, 33],\n",
              "       [ 2,  3],\n",
              "       [45, 87],\n",
              "       [ 5,  6],\n",
              "       [11, 99]])"
            ]
          },
          "metadata": {
            "tags": []
          },
          "execution_count": 24
        }
      ]
    },
    {
      "cell_type": "markdown",
      "metadata": {
        "id": "GRVWiI7OCL0P",
        "colab_type": "text"
      },
      "source": [
        "\n",
        "## 5. Create two array of same size and find commom elements"
      ]
    },
    {
      "cell_type": "code",
      "metadata": {
        "id": "1nr5t3M1BYi2",
        "colab_type": "code",
        "colab": {
          "base_uri": "https://localhost:8080/",
          "height": 34
        },
        "outputId": "fd50e0c3-047e-4b6c-b221-3ea2e3141f72"
      },
      "source": [
        "a = [11,22,33,44,55]\n",
        "b = [55,44,66,77,88]\n",
        "print(set(a).intersection(set(b)))"
      ],
      "execution_count": 42,
      "outputs": [
        {
          "output_type": "stream",
          "text": [
            "{44, 55}\n"
          ],
          "name": "stdout"
        }
      ]
    },
    {
      "cell_type": "markdown",
      "metadata": {
        "id": "caj37avOHvQ7",
        "colab_type": "text"
      },
      "source": [
        "##6. Create a 2D array of 5 by 5 and find the min and max values from each row and each column"
      ]
    },
    {
      "cell_type": "code",
      "metadata": {
        "id": "fFIodasLHyn6",
        "colab_type": "code",
        "colab": {
          "base_uri": "https://localhost:8080/",
          "height": 153
        },
        "outputId": "d3c5d4d4-4ef5-45c8-e35a-168b77cf342d"
      },
      "source": [
        "A = np.array([[1,2],[3,4],[5,6],[7,8]])\n",
        "print(A)\n",
        "\n",
        "print(A.max(axis=0))\n",
        "print(A.max(axis=1))\n",
        "\n",
        "print(A.min(axis=0))\n",
        "print(A.min(axis=1))\n",
        "\n"
      ],
      "execution_count": 56,
      "outputs": [
        {
          "output_type": "stream",
          "text": [
            "[[1 2]\n",
            " [3 4]\n",
            " [5 6]\n",
            " [7 8]]\n",
            "[7 8]\n",
            "[2 4 6 8]\n",
            "[1 2]\n",
            "[1 3 5 7]\n"
          ],
          "name": "stdout"
        }
      ]
    },
    {
      "cell_type": "markdown",
      "metadata": {
        "id": "ltr-ccAYK8IO",
        "colab_type": "text"
      },
      "source": [
        "##7. Create an array of size 100 and  compute the mean, median, standard deviation. "
      ]
    },
    {
      "cell_type": "code",
      "metadata": {
        "id": "cKoO-puhK_cm",
        "colab_type": "code",
        "colab": {
          "base_uri": "https://localhost:8080/",
          "height": 119
        },
        "outputId": "7e70d7a3-a2b1-4e5a-db7e-8014bd7faa77"
      },
      "source": [
        "import numpy as np\n",
        "x= np.random.randint(100,size=(5,5))\n",
        "print(\"Average:\")\n",
        "mean = x.mean()\n",
        "print(mean)\n",
        "print(\"Standard deviation:\")\n",
        "std = x.std()\n",
        "print(std)\n",
        "median= np.median(x)\n",
        "print('median:')\n",
        "print(median)\n"
      ],
      "execution_count": 83,
      "outputs": [
        {
          "output_type": "stream",
          "text": [
            "Average:\n",
            "47.32\n",
            "Standard deviation:\n",
            "28.21591040530147\n",
            "median:\n",
            "45.0\n"
          ],
          "name": "stdout"
        }
      ]
    },
    {
      "cell_type": "markdown",
      "metadata": {
        "id": "3KXkYgIAM7ZY",
        "colab_type": "text"
      },
      "source": [
        "##8. Normalize a 5x5 random matrix "
      ]
    },
    {
      "cell_type": "code",
      "metadata": {
        "id": "Who2Sh8vM8qT",
        "colab_type": "code",
        "colab": {
          "base_uri": "https://localhost:8080/",
          "height": 102
        },
        "outputId": "78eecf96-6fd7-4e2c-e0c6-fe5bd8206605"
      },
      "source": [
        "x= np.random.randint(50,size=(5,5))\n",
        "print(x)"
      ],
      "execution_count": 79,
      "outputs": [
        {
          "output_type": "stream",
          "text": [
            "[[16 44 13 19 47]\n",
            " [ 7 13 43 25 28]\n",
            " [ 8 11 14  1 30]\n",
            " [43  9 46  7  0]\n",
            " [ 3 28  4 46  8]]\n"
          ],
          "name": "stdout"
        }
      ]
    },
    {
      "cell_type": "markdown",
      "metadata": {
        "id": "FlXhs7hAN_Wg",
        "colab_type": "text"
      },
      "source": [
        "##9. Consider an array of dimension (4,4,3), how to mulitply it by an array with dimensions (4,4)?"
      ]
    },
    {
      "cell_type": "code",
      "metadata": {
        "id": "DAZnojd2ODcp",
        "colab_type": "code",
        "colab": {
          "base_uri": "https://localhost:8080/",
          "height": 731
        },
        "outputId": "6eead85e-7857-4f5b-d7f7-7a452a1ba1cb"
      },
      "source": [
        "a = np.random.randint(1,10,(4,4,3))\n",
        "print(a)\n",
        "b = np.random.randint(1,10,(4,4))\n",
        "print(b)\n",
        "new = a*b[:,:,None]\n",
        "print(new)"
      ],
      "execution_count": 90,
      "outputs": [
        {
          "output_type": "stream",
          "text": [
            "[[[3 6 9]\n",
            "  [9 1 5]\n",
            "  [2 5 2]\n",
            "  [7 4 1]]\n",
            "\n",
            " [[9 9 4]\n",
            "  [6 7 5]\n",
            "  [4 8 9]\n",
            "  [5 2 8]]\n",
            "\n",
            " [[1 5 3]\n",
            "  [1 5 1]\n",
            "  [5 9 9]\n",
            "  [6 6 6]]\n",
            "\n",
            " [[7 1 2]\n",
            "  [8 6 6]\n",
            "  [9 1 6]\n",
            "  [6 3 7]]]\n",
            "[[8 1 4 4]\n",
            " [3 2 1 2]\n",
            " [9 6 8 3]\n",
            " [3 4 8 4]]\n",
            "[[[24 48 72]\n",
            "  [ 9  1  5]\n",
            "  [ 8 20  8]\n",
            "  [28 16  4]]\n",
            "\n",
            " [[27 27 12]\n",
            "  [12 14 10]\n",
            "  [ 4  8  9]\n",
            "  [10  4 16]]\n",
            "\n",
            " [[ 9 45 27]\n",
            "  [ 6 30  6]\n",
            "  [40 72 72]\n",
            "  [18 18 18]]\n",
            "\n",
            " [[21  3  6]\n",
            "  [32 24 24]\n",
            "  [72  8 48]\n",
            "  [24 12 28]]]\n"
          ],
          "name": "stdout"
        }
      ]
    }
  ]
}