{
  "nbformat": 4,
  "nbformat_minor": 0,
  "metadata": {
    "colab": {
      "name": "EV Charging demand.ipynb",
      "provenance": [],
      "collapsed_sections": [],
      "authorship_tag": "ABX9TyM2aCA84a/v9Lkv+90gYyc7",
      "include_colab_link": true
    },
    "kernelspec": {
      "name": "python3",
      "display_name": "Python 3"
    },
    "accelerator": "GPU"
  },
  "cells": [
    {
      "cell_type": "markdown",
      "metadata": {
        "id": "view-in-github",
        "colab_type": "text"
      },
      "source": [
        "<a href=\"https://colab.research.google.com/github/weiyuchen1213/CE888/blob/master/EV_Charging_demand.ipynb\" target=\"_parent\"><img src=\"https://colab.research.google.com/assets/colab-badge.svg\" alt=\"Open In Colab\"/></a>"
      ]
    },
    {
      "cell_type": "code",
      "metadata": {
        "id": "056v4lQpdbfB",
        "colab_type": "code",
        "colab": {}
      },
      "source": [
        "import pandas as pd\n",
        "import numpy as np"
      ],
      "execution_count": null,
      "outputs": []
    },
    {
      "cell_type": "code",
      "metadata": {
        "id": "lVoHXeH3izeA",
        "colab_type": "code",
        "colab": {}
      },
      "source": [
        "#Load data\n",
        "url = 'https://raw.githubusercontent.com/weiyuchen1213/EV-charging-demand-forecasting/master/dataset/AbbyEvan-pod-7526-charges.csv'\n",
        "\n",
        "df = pd.read_csv(url)"
      ],
      "execution_count": null,
      "outputs": []
    },
    {
      "cell_type": "code",
      "metadata": {
        "id": "9FyoBywHe_BK",
        "colab_type": "code",
        "colab": {
          "base_uri": "https://localhost:8080/",
          "height": 197
        },
        "outputId": "21bc8099-5a78-49f3-bf28-325186c88635"
      },
      "source": [
        "df.head()"
      ],
      "execution_count": null,
      "outputs": [
        {
          "output_type": "execute_result",
          "data": {
            "text/html": [
              "<div>\n",
              "<style scoped>\n",
              "    .dataframe tbody tr th:only-of-type {\n",
              "        vertical-align: middle;\n",
              "    }\n",
              "\n",
              "    .dataframe tbody tr th {\n",
              "        vertical-align: top;\n",
              "    }\n",
              "\n",
              "    .dataframe thead th {\n",
              "        text-align: right;\n",
              "    }\n",
              "</style>\n",
              "<table border=\"1\" class=\"dataframe\">\n",
              "  <thead>\n",
              "    <tr style=\"text-align: right;\">\n",
              "      <th></th>\n",
              "      <th>Started At</th>\n",
              "      <th>Ended At</th>\n",
              "      <th>Energy Used</th>\n",
              "      <th>Duration (seconds)</th>\n",
              "      <th>CO2 Saved</th>\n",
              "    </tr>\n",
              "  </thead>\n",
              "  <tbody>\n",
              "    <tr>\n",
              "      <th>0</th>\n",
              "      <td>16/10/2018 07:50</td>\n",
              "      <td>16/10/2018 16:44</td>\n",
              "      <td>9.20kWh</td>\n",
              "      <td>32070</td>\n",
              "      <td>5.152kg</td>\n",
              "    </tr>\n",
              "    <tr>\n",
              "      <th>1</th>\n",
              "      <td>16/10/2018 12:48</td>\n",
              "      <td>16/10/2018 16:01</td>\n",
              "      <td>10.60kWh</td>\n",
              "      <td>11617</td>\n",
              "      <td>5.936kg</td>\n",
              "    </tr>\n",
              "    <tr>\n",
              "      <th>2</th>\n",
              "      <td>17/10/2018 08:26</td>\n",
              "      <td>17/10/2018 08:41</td>\n",
              "      <td>0.80kWh</td>\n",
              "      <td>881</td>\n",
              "      <td>0.448kg</td>\n",
              "    </tr>\n",
              "    <tr>\n",
              "      <th>3</th>\n",
              "      <td>19/10/2018 10:21</td>\n",
              "      <td>19/10/2018 10:35</td>\n",
              "      <td>0.80kWh</td>\n",
              "      <td>851</td>\n",
              "      <td>0.448kg</td>\n",
              "    </tr>\n",
              "    <tr>\n",
              "      <th>4</th>\n",
              "      <td>23/10/2018 07:42</td>\n",
              "      <td>23/10/2018 15:57</td>\n",
              "      <td>14.10kWh</td>\n",
              "      <td>29697</td>\n",
              "      <td>7.896kg</td>\n",
              "    </tr>\n",
              "  </tbody>\n",
              "</table>\n",
              "</div>"
            ],
            "text/plain": [
              "         Started At          Ended At Energy Used  Duration (seconds) CO2 Saved\n",
              "0  16/10/2018 07:50  16/10/2018 16:44     9.20kWh               32070   5.152kg\n",
              "1  16/10/2018 12:48  16/10/2018 16:01    10.60kWh               11617   5.936kg\n",
              "2  17/10/2018 08:26  17/10/2018 08:41     0.80kWh                 881   0.448kg\n",
              "3  19/10/2018 10:21  19/10/2018 10:35     0.80kWh                 851   0.448kg\n",
              "4  23/10/2018 07:42  23/10/2018 15:57    14.10kWh               29697   7.896kg"
            ]
          },
          "metadata": {
            "tags": []
          },
          "execution_count": 4
        }
      ]
    },
    {
      "cell_type": "markdown",
      "metadata": {
        "id": "lgIEmOyujRKr",
        "colab_type": "text"
      },
      "source": [
        "# New section"
      ]
    },
    {
      "cell_type": "code",
      "metadata": {
        "id": "uqhblyLeMIv-",
        "colab_type": "code",
        "colab": {
          "base_uri": "https://localhost:8080/",
          "height": 265
        },
        "outputId": "2e694ea9-8cc8-4b03-95de-555cab23e001"
      },
      "source": [
        "from datetime import date \n",
        "import holidays \n",
        "\n",
        "uk_holidays = holidays.UnitedKingdom() \n",
        "  \n",
        "# Print all the holidays in UnitedKingdom in year 2018 \n",
        "for ptr in holidays.UnitedKingdom(years = 2018).items(): \n",
        "    print(ptr) "
      ],
      "execution_count": 3,
      "outputs": [
        {
          "output_type": "stream",
          "text": [
            "(datetime.date(2018, 1, 1), \"New Year's Day\")\n",
            "(datetime.date(2018, 1, 2), 'New Year Holiday [Scotland]')\n",
            "(datetime.date(2018, 3, 17), \"St. Patrick's Day [Northern Ireland]\")\n",
            "(datetime.date(2018, 3, 19), \"St. Patrick's Day [Northern Ireland] (Observed)\")\n",
            "(datetime.date(2018, 3, 30), 'Good Friday')\n",
            "(datetime.date(2018, 4, 2), 'Easter Monday [England, Wales, Northern Ireland]')\n",
            "(datetime.date(2018, 5, 7), 'May Day')\n",
            "(datetime.date(2018, 5, 28), 'Spring Bank Holiday')\n",
            "(datetime.date(2018, 7, 12), 'Battle of the Boyne [Northern Ireland]')\n",
            "(datetime.date(2018, 8, 6), 'Summer Bank Holiday [Scotland]')\n",
            "(datetime.date(2018, 8, 27), 'Late Summer Bank Holiday [England, Wales, Northern Ireland]')\n",
            "(datetime.date(2018, 11, 30), \"St. Andrew's Day [Scotland]\")\n",
            "(datetime.date(2018, 12, 25), 'Christmas Day')\n",
            "(datetime.date(2018, 12, 26), 'Boxing Day')\n"
          ],
          "name": "stdout"
        }
      ]
    }
  ]
}